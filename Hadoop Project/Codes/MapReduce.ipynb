{
 "cells": [
  {
   "cell_type": "markdown",
   "id": "e67ae40c",
   "metadata": {},
   "source": [
    "# Load Dataset"
   ]
  },
  {
   "cell_type": "code",
   "execution_count": 43,
   "id": "4c438ccf",
   "metadata": {},
   "outputs": [],
   "source": [
    "df = pd.read_csv('popularity.txt' , sep ='\\t' , header = None , names=[\"popularity\"] )"
   ]
  },
  {
   "cell_type": "code",
   "execution_count": 40,
   "id": "23849428",
   "metadata": {},
   "outputs": [
    {
     "data": {
      "text/plain": [
       "popularity\n",
       "Medium        0.499993\n",
       "High          0.250041\n",
       "Low           0.249966\n",
       "dtype: float64"
      ]
     },
     "execution_count": 40,
     "metadata": {},
     "output_type": "execute_result"
    }
   ],
   "source": [
    "df.value_counts(normalize = True)"
   ]
  },
  {
   "cell_type": "markdown",
   "id": "7ae76bf5",
   "metadata": {},
   "source": [
    "## MapReduce\n",
    "Let's dive a little deeper into an example that combines both concepts for us to understand it better."
   ]
  },
  {
   "cell_type": "code",
   "execution_count": 1,
   "id": "9bc50e57",
   "metadata": {},
   "outputs": [
    {
     "name": "stdout",
     "output_type": "stream",
     "text": [
      "Collecting mrjob\n",
      "  Downloading mrjob-0.7.4-py2.py3-none-any.whl (439 kB)\n",
      "     ------------------------------------ 439.6/439.6 kB 274.7 kB/s eta 0:00:00\n",
      "Requirement already satisfied: PyYAML>=3.10 in c:\\users\\huawei\\anaconda3\\lib\\site-packages (from mrjob) (6.0)\n",
      "Installing collected packages: mrjob\n",
      "Successfully installed mrjob-0.7.4\n"
     ]
    }
   ],
   "source": [
    "# Install mrjob library. This package is for running MapReduce jobs with Python\n",
    "!pip install mrjob"
   ]
  },
  {
   "cell_type": "code",
   "execution_count": 41,
   "id": "92d74edc",
   "metadata": {},
   "outputs": [
    {
     "name": "stdout",
     "output_type": "stream",
     "text": [
      "Overwriting wordcount.py\n"
     ]
    }
   ],
   "source": [
    "%%file wordcount.py\n",
    "# %%file is an Ipython magic function that saves the code cell as a file\n",
    "\n",
    "from mrjob.job import MRJob # import the mrjob library\n",
    "\n",
    "class MRSongCount(MRJob):\n",
    "    \n",
    "    # the map step: each line in the txt file is read as a key, value pair\n",
    "    # in this case, each line in the txt file only contains a value but no key\n",
    "    # _ means that in this case, there is no key for each line\n",
    "    def mapper(self, _, song):\n",
    "        # output each line as a tuple of (song_names, 1) \n",
    "        yield (song, 1)\n",
    "\n",
    "    # the reduce step: combine all tuples with the same key\n",
    "    # in this case, the key is the song name\n",
    "    # then sum all the values of the tuple, which will give the total song plays\n",
    "    def reducer(self, key, values):\n",
    "        yield (key, sum(values))\n",
    "        \n",
    "if __name__ == \"__main__\":\n",
    "    MRSongCount.run()"
   ]
  },
  {
   "cell_type": "code",
   "execution_count": 42,
   "id": "8123ef0f",
   "metadata": {},
   "outputs": [
    {
     "name": "stdout",
     "output_type": "stream",
     "text": [
      "\"High\"\t16739\n",
      "\"Low\"\t16734\n",
      "\"Medium\"\t33472\n",
      "Wall time: 2.01 s\n"
     ]
    },
    {
     "name": "stderr",
     "output_type": "stream",
     "text": [
      "No configs found; falling back on auto-configuration\n",
      "No configs specified for inline runner\n",
      "Creating temp directory C:\\Users\\sily\\AppData\\Local\\Temp\\wordcount.sily.20221126.181450.973083\n",
      "Running step 1 of 1...\n",
      "job output is in C:\\Users\\sily\\AppData\\Local\\Temp\\wordcount.sily.20221126.181450.973083\\output\n",
      "Streaming final output from C:\\Users\\sily\\AppData\\Local\\Temp\\wordcount.sily.20221126.181450.973083\\output...\n",
      "Removing temp directory C:\\Users\\sily\\AppData\\Local\\Temp\\wordcount.sily.20221126.181450.973083...\n"
     ]
    }
   ],
   "source": [
    "# run the code as a terminal command\n",
    "%time !python wordcount.py popularity.txt"
   ]
  }
 ],
 "metadata": {
  "kernelspec": {
   "display_name": "Python 3 (ipykernel)",
   "language": "python",
   "name": "python3"
  },
  "language_info": {
   "codemirror_mode": {
    "name": "ipython",
    "version": 3
   },
   "file_extension": ".py",
   "mimetype": "text/x-python",
   "name": "python",
   "nbconvert_exporter": "python",
   "pygments_lexer": "ipython3",
   "version": "3.9.12"
  }
 },
 "nbformat": 4,
 "nbformat_minor": 5
}
